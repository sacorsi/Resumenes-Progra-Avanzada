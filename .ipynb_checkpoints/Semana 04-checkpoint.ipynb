{
 "cells": [
  {
   "cell_type": "markdown",
   "metadata": {},
   "source": [
    "# 1. Objetos"
   ]
  },
  {
   "cell_type": "markdown",
   "metadata": {},
   "source": [
    "Los datos **describen** a los objetos, mientras que los comportamientos **representan acciones** que ocurren en ellos.\n",
    "\n",
    "**Clase**: Autos\n",
    "\n",
    "**Datos**: Marca, modelo, año, color, etc.\n",
    "\n",
    "**Acciones** (comportamiento): Calcular próxima mantención, realizar una nueva mantención, etc.\n",
    "\n",
    "Todos los objetos que perteneces a la misma clase, poseen los mismos datos y comportamientos (acciones)."
   ]
  },
  {
   "cell_type": "markdown",
   "metadata": {},
   "source": [
    "## OPP"
   ]
  },
  {
   "cell_type": "markdown",
   "metadata": {},
   "source": [
    "La **Programación orientada a objetos** u **OOP** (_Object-oriented Programming_) es un paradigma de programación (una manera de programar) en el cual los programas modelan las funcionalidades\n",
    "a través de la interacción entre **objetos** por\n",
    "medio de sus datos y sus comportamientos. "
   ]
  },
  {
   "cell_type": "markdown",
   "metadata": {},
   "source": [
    "Los objetos son descritos de manera general mediante clases.\n",
    "\n",
    "Datos que caracterizan a un objeto: **Atributo**\n",
    "\n",
    "Comportamientos de los objetos: **Métodos**\n",
    "\n",
    "Cada vez que creamos un objeto a partir de una clase, decimos que estamos _instanciando_ esa clase, por lo tanto **un objeto es una instancia de una clase**."
   ]
  },
  {
   "cell_type": "markdown",
   "metadata": {},
   "source": [
    "## Interfaz"
   ]
  },
  {
   "cell_type": "markdown",
   "metadata": {},
   "source": [
    "En programación, una interfaz es una _fachada_ para proteger la implementación de una clase e interactuar con otros objetos. La interfaz define el conjunto de atributos y métodos de un objeto que son _expuestos_ u ofrecidos por la clase para poder interactuar con otros objetos.\n",
    "\n",
    "El nivel de detalle de la interfaz se denomina **abstracción**. En nuestro ejemplo, todos los atributos `kilometraje`, `velocidad`, `nivel_de_aceite` y los métodos _acelerar_, _encender el motor_, _abrir capot_ siguen siendo parte de la clase `Auto`. Sin embargo, hemos definido una interfaz con cierto nivel de abstracción para interactuar con la clase `Conductor`, ocultando o abstrayendo al Conductor de detalles internos del Auto. Por otro lado, para interactuar con la clase `Mecánico` ofrecemos, además de lo que es accesible al `Conductor`, una interfaz más concreta que expone un mayor conjunto de atributos y métodos de la clase `Auto`."
   ]
  },
  {
   "cell_type": "markdown",
   "metadata": {},
   "source": [
    "## OPP en Python"
   ]
  },
  {
   "cell_type": "markdown",
   "metadata": {},
   "source": [
    "En Python todos los **atributos** y **métodos** de un objeto son **públicos**."
   ]
  },
  {
   "cell_type": "markdown",
   "metadata": {},
   "source": [
    "## Encapsulamiento en Python"
   ]
  },
  {
   "cell_type": "markdown",
   "metadata": {},
   "source": [
    "Permite _sugerir_ que un método o atributos de uso únicamente interno. Esto se hace agregando un caracter _underscore_ al inicio del atributo o método."
   ]
  },
  {
   "cell_type": "code",
   "execution_count": 14,
   "metadata": {
    "collapsed": true
   },
   "outputs": [],
   "source": [
    "class Televisor:\n",
    "    ''' Clase que modela un televisor.\n",
    "    '''\n",
    "    \n",
    "    def __init__(self, pulgadas, marca):\n",
    "        self.pulgadas = pulgadas\n",
    "        self.marca = marca\n",
    "        self.encendido = False\n",
    "        self.canal_actual = 0\n",
    "        self._clave = \"tv123\"\n",
    "        self.__clavesecreta = \"tv456\"\n",
    "        \n",
    "    def encender(self):\n",
    "        self.encendido = True\n",
    "        \n",
    "    def apagar(self):\n",
    "        self.encendido = False\n",
    "        \n",
    "    def cambiar_canal(self, nuevo_canal):\n",
    "        self._decodificar_imagen()\n",
    "        self.canal_actual = nuevo_canal\n",
    "        \n",
    "    def _decodificar_imagen(self):\n",
    "        print(\"Estoy convirtiendo una señal eléctrica en la imagen que estás viendo.\")\n",
    "        \n",
    "    def __mostrar_canal_prohibido(self):\n",
    "        print(\"Esto permite ver el canal del curling, pero usted no debe saberlo.\")\n",
    "\n",
    "televisor1 = Televisor(17, 'zony')\n",
    "televisor2 = Televisor(21, 'zamsung')"
   ]
  },
  {
   "cell_type": "code",
   "execution_count": 15,
   "metadata": {},
   "outputs": [
    {
     "name": "stdout",
     "output_type": "stream",
     "text": [
      "El televisor 1 está encendido? False\n",
      "El televisor 1 está encendido? True\n"
     ]
    }
   ],
   "source": [
    "print(f\"El televisor 1 está encendido? {televisor1.encendido}\")\n",
    "televisor1.encender()\n",
    "print(f\"El televisor 1 está encendido? {televisor1.encendido}\")\n",
    "televisor1.apagar()"
   ]
  },
  {
   "cell_type": "code",
   "execution_count": 17,
   "metadata": {},
   "outputs": [
    {
     "name": "stdout",
     "output_type": "stream",
     "text": [
      "Estoy convirtiendo una señal eléctrica en la imagen que estás viendo.\n",
      "tv123\n",
      "Estoy convirtiendo una señal eléctrica en la imagen que estás viendo.\n"
     ]
    }
   ],
   "source": [
    "televisor1._decodificar_imagen()\n",
    "print(televisor1._clave)\n",
    "televisor1.cambiar_canal(2)"
   ]
  },
  {
   "cell_type": "markdown",
   "metadata": {},
   "source": [
    "Como el método `_decodificar_imagen` empieza con _underscore_, **por convención** éste no debe ser llamado fuera de la clase. Lo mismo ocurre con el atributo `_clave`, que es un parámetro interno del televisor. Sin embargo, como todo esto sólo una convención, **aún podemos acceder a ellos directamente**."
   ]
  },
  {
   "cell_type": "markdown",
   "metadata": {},
   "source": [
    "Si queremos (casi) realmente tener atributos y métodos que no puedan ser llamados directamente, podemos iniciar con _doble underscore_ como en el siguiente ejemplo."
   ]
  },
  {
   "cell_type": "code",
   "execution_count": 18,
   "metadata": {},
   "outputs": [
    {
     "ename": "AttributeError",
     "evalue": "'Televisor' object has no attribute '__clavesecreta'",
     "output_type": "error",
     "traceback": [
      "\u001b[1;31m---------------------------------------------------------------------------\u001b[0m",
      "\u001b[1;31mAttributeError\u001b[0m                            Traceback (most recent call last)",
      "\u001b[1;32m<ipython-input-18-96972f2b14a6>\u001b[0m in \u001b[0;36m<module>\u001b[1;34m()\u001b[0m\n\u001b[1;32m----> 1\u001b[1;33m \u001b[0mprint\u001b[0m\u001b[1;33m(\u001b[0m\u001b[0mtelevisor1\u001b[0m\u001b[1;33m.\u001b[0m\u001b[0m__clavesecreta\u001b[0m\u001b[1;33m)\u001b[0m\u001b[1;33m\u001b[0m\u001b[0m\n\u001b[0m",
      "\u001b[1;31mAttributeError\u001b[0m: 'Televisor' object has no attribute '__clavesecreta'"
     ]
    }
   ],
   "source": [
    "print(televisor1.__clavesecreta)"
   ]
  },
  {
   "cell_type": "markdown",
   "metadata": {},
   "source": [
    "Podemos ver que, a pesar que los atributos existen, Python pareciera ser incapaz de encontrarlos y nos arroja un error. La verdad es que todo esto es un truco de la implementación de Python para proveer algo similar a los atributos y métodos privados. Cuando un atributo o método empieza con **_doble underscore_**, Python reemplaza internamente sus nombres por `_NombreDeLaClase__atributo_o_metodo_secreto`, y por lo tanto podemos ser más astutos y escribir:"
   ]
  },
  {
   "cell_type": "code",
   "execution_count": 23,
   "metadata": {},
   "outputs": [
    {
     "name": "stdout",
     "output_type": "stream",
     "text": [
      "tv456\n"
     ]
    }
   ],
   "source": [
    "print(televisor1._Televisor__clavesecreta)"
   ]
  },
  {
   "cell_type": "markdown",
   "metadata": {},
   "source": [
    "Este truco se conoce como **_name mangling_**. No ocurre, sin embargo, cuando el nombre del método termina también con _doble underscore_, por lo cual sí podemos llamar directamente métodos como `televisor1.__str__()`. Estas características son, en cualquier caso, exclusivas de Python y su objetivo es disminuir la posibilidad de errores por parte del programador al proveer algo que simula la existencia de atributos y métodos privados en un lenguaje que no los tiene."
   ]
  },
  {
   "cell_type": "markdown",
   "metadata": {},
   "source": [
    "En resumen:\n",
    "\n",
    "**_atributo**: atributo secreto.\n",
    "\n",
    "**__atributo**: atributo protegido.\n",
    "\n",
    "Por ahora es mejor usar atributos \"secretos\" que protegidos."
   ]
  },
  {
   "cell_type": "markdown",
   "metadata": {},
   "source": [
    "### Ver una descripción de la clase\n",
    "\n",
    "[help](https://docs.python.org/3/library/functions.html#help) es una función construida dentro del intérprete de Python (_built-in_) que, aplicada al nombre de una clase, entrega una descripción de la clase a modo de documentación. Permite saber qué métodos han sido definidos dentro de la clase y utiliza los comentarios que se hayan escrito dentro de la clase."
   ]
  },
  {
   "cell_type": "code",
   "execution_count": 33,
   "metadata": {},
   "outputs": [
    {
     "name": "stdout",
     "output_type": "stream",
     "text": [
      "Help on class Televisor in module __main__:\n",
      "\n",
      "class Televisor(builtins.object)\n",
      " |  Clase que modela un televisor.\n",
      " |  \n",
      " |  Methods defined here:\n",
      " |  \n",
      " |  __init__(self, pulgadas, marca)\n",
      " |      Initialize self.  See help(type(self)) for accurate signature.\n",
      " |  \n",
      " |  apagar(self)\n",
      " |  \n",
      " |  cambiar_canal(self, nuevo_canal)\n",
      " |  \n",
      " |  encender(self)\n",
      " |  \n",
      " |  ----------------------------------------------------------------------\n",
      " |  Data descriptors defined here:\n",
      " |  \n",
      " |  __dict__\n",
      " |      dictionary for instance variables (if defined)\n",
      " |  \n",
      " |  __weakref__\n",
      " |      list of weak references to the object (if defined)\n",
      "\n"
     ]
    }
   ],
   "source": [
    "help(Televisor)"
   ]
  },
  {
   "cell_type": "markdown",
   "metadata": {},
   "source": [
    "# 2. Properties"
   ]
  },
  {
   "cell_type": "markdown",
   "metadata": {},
   "source": [
    "La manera que tiene Python de proveer encapsulamiento es mediante el uso de un mecanismo llamado **properties**."
   ]
  },
  {
   "cell_type": "markdown",
   "metadata": {},
   "source": [
    "### ¿Qué son las _properties_?\n",
    "\n",
    "En Python, una _property_ funciona como un atributo, pero sobre el cual podemos modificar su comportamiento cada vez que es leído (`get`), escrito (`set`), o eliminado (`del`). Al usar el mecanismo de _properties_ sobre un atributo, podemos ejecutar acciones de manera más limpia que invocando métodos explícitos para leer o modificar el valor de un objeto."
   ]
  },
  {
   "cell_type": "markdown",
   "metadata": {},
   "source": [
    "En otras palabras, los **properties** se encargan de que se cumplan ciertas características que deseamos.\n",
    "\n",
    "Ejemplos de properties: \n",
    "    - Vida >= 0\n",
    "    - No sobrepasar área máxima"
   ]
  },
  {
   "cell_type": "code",
   "execution_count": 24,
   "metadata": {
    "collapsed": true
   },
   "outputs": [],
   "source": [
    "class Puente:\n",
    "    \n",
    "    def __init__(self, maximo):\n",
    "        self.maximo = maximo\n",
    "        self.__personas = 0\n",
    "        \n",
    "    @property\n",
    "    def personas(self):\n",
    "        return self.__personas\n",
    "\n",
    "    @personas.setter\n",
    "    def personas(self, p):\n",
    "        if p > self.maximo:\n",
    "            self.__personas = self.maximo\n",
    "        elif p < 0:\n",
    "            self.__personas = 0\n",
    "        else:\n",
    "            self.__personas = p"
   ]
  },
  {
   "cell_type": "markdown",
   "metadata": {},
   "source": [
    "Al escribir el decorador `@property` antes del método `personas`, estamos definiendo una _property_ de nombre `personas`. Esta _property_ se comporta como un atributo cuyo método _getter_ es precisamente el método `personas`. Adicionalmente podemos definir otro método como _setter_ (que nos permitirá modificar el valor de la _property_) y para eso lo decoramos con `@personas.setter`."
   ]
  },
  {
   "cell_type": "code",
   "execution_count": 25,
   "metadata": {},
   "outputs": [
    {
     "name": "stdout",
     "output_type": "stream",
     "text": [
      "Hay 7 personas en el puente.\n",
      "Hay 10 personas en el puente.\n",
      "Hay 0 personas en el puente.\n"
     ]
    }
   ],
   "source": [
    "puente = Puente(10)\n",
    "puente.personas += 7\n",
    "print(f\"Hay {puente.personas} personas en el puente.\")\n",
    "puente.personas += 5\n",
    "print(f\"Hay {puente.personas} personas en el puente.\")\n",
    "puente.personas -= 15\n",
    "print(f\"Hay {puente.personas} personas en el puente.\")"
   ]
  },
  {
   "cell_type": "markdown",
   "metadata": {},
   "source": [
    "### Otras maneras de definir _properties_\n",
    "\n",
    "Si no le parece tan clara la manera definir _properties_ mediante decoradores, Python ofrece otra manera más explícita que provee el mismo comportamiento. Observar la siguiente versión de la clase `Puente`:"
   ]
  },
  {
   "cell_type": "code",
   "execution_count": 27,
   "metadata": {},
   "outputs": [],
   "source": [
    "class Puente:\n",
    "    \n",
    "    def __init__(self, maximo):\n",
    "        self.maximo = maximo\n",
    "        self.__personas = 0\n",
    "        \n",
    "    def _get_personas(self):\n",
    "        return self.__personas\n",
    "\n",
    "    def _set_personas(self, p):\n",
    "        if p > self.maximo:\n",
    "            self.__personas = self.maximo\n",
    "        elif p < 0:\n",
    "            self.__personas = 0\n",
    "        else:\n",
    "            self.__personas = p\n",
    "        \n",
    "    personas = property(_get_personas, _set_personas)"
   ]
  },
  {
   "cell_type": "markdown",
   "metadata": {},
   "source": [
    "El comportamiento es el mismo que en el caso anterior que usaba decoradores. Las verificaciones se encuentran encapsuladas en los métodos _getter_ y _setter_ asociados a la _property_ `personas`; la sintaxis es simple y no depende de los nombres internos de los métodos _getter_ y _setter_."
   ]
  },
  {
   "cell_type": "markdown",
   "metadata": {},
   "source": [
    "### Ejemplo: caching de páginas web\n",
    "\n",
    "Un típico ejemplo de acción invocada es cuando hacemos _caching_ de una página web. Esto ocurre cuando nuestro navegador guarda contenido del sitio, para no tener que descargarlo cada vez que se accede a él. \n",
    "\n",
    "En nuestro ejemplo, un atributo que corresponde al contenido de una página web. Si un usuario accede al contenido por primera vez, descargamos el contenido y lo guardarmos. De esta forma, en los próximos accesos podemos retornar el contenido guardado sin la necesidad de bajarlo de nuevo."
   ]
  },
  {
   "cell_type": "markdown",
   "metadata": {},
   "source": [
    "### Ejemplo: definiendo una clase `Email`\n",
    "\n",
    "Una forma de usar properties es definiendo los métodos y luego asignarlos a una variable usando `property`."
   ]
  },
  {
   "cell_type": "code",
   "execution_count": 28,
   "metadata": {
    "collapsed": true
   },
   "outputs": [],
   "source": [
    "class Email2:\n",
    "    \n",
    "    def __init__(self, address):\n",
    "        self._email = address\n",
    "    \n",
    "    @property\n",
    "    def email(self):\n",
    "        return self._email\n",
    "    \n",
    "    @email.setter\n",
    "    def email(self, value):\n",
    "        if '@' not in value:\n",
    "            print(\"Esto no parece una dirección de correo.\")\n",
    "        else:\n",
    "            self._email = value\n",
    "\n",
    "    @email.deleter\n",
    "    def email(self):\n",
    "        print(\"¡Eliminaste el correo!\")\n",
    "        del self._email"
   ]
  },
  {
   "cell_type": "code",
   "execution_count": 29,
   "metadata": {},
   "outputs": [
    {
     "name": "stdout",
     "output_type": "stream",
     "text": [
      "kp1@gmail.com\n",
      "kp2@gmail.com\n",
      "Esto no parece una dirección de correo.\n",
      "¡Eliminaste el correo!\n"
     ]
    }
   ],
   "source": [
    "mail = Email2(\"kp1@gmail.com\")\n",
    "print(mail.email)\n",
    "mail.email = \"kp2@gmail.com\"\n",
    "print(mail.email)\n",
    "mail.email = \"kp2.com\"\n",
    "del mail.email"
   ]
  },
  {
   "cell_type": "markdown",
   "metadata": {},
   "source": [
    "Las _properties_ con decoradores también pueden involucar acciones que dependen de variables de la clase:"
   ]
  },
  {
   "cell_type": "code",
   "execution_count": 30,
   "metadata": {
    "collapsed": true
   },
   "outputs": [],
   "source": [
    "class Email3:\n",
    "    \n",
    "    def __init__(self, address):\n",
    "        self._email = address\n",
    "\n",
    "    @property\n",
    "    def username(self):\n",
    "        return self._email.split('@')[0]"
   ]
  },
  {
   "cell_type": "code",
   "execution_count": 31,
   "metadata": {},
   "outputs": [
    {
     "name": "stdout",
     "output_type": "stream",
     "text": [
      "kp1\n",
      "kp2\n"
     ]
    }
   ],
   "source": [
    "mail = Email3(\"kp1@gmail.com\")\n",
    "print(mail.username)\n",
    "mail._email = \"kp2@gmail.com\"\n",
    "print(mail.username)"
   ]
  },
  {
   "cell_type": "markdown",
   "metadata": {},
   "source": [
    "# 3. Herencia"
   ]
  },
  {
   "cell_type": "markdown",
   "metadata": {},
   "source": [
    "## Herencia\n",
    "\n",
    "La herencia (_inheritance_) es una de las características más importantes de OOP, y corresponde a una relación de **especialización** y **generalización**, donde una **subclase** _hereda_ atributos y métodos desde una **superclase**. La subclase posee todos los atributos y métodos de la superclase, pero además tiene sus propios métodos y atributos específicos.\n",
    "\n",
    "El concepto de herencia nos permite aprovechar (reutilizar) código de las clases de las cuales se hereda, y representa una relación del tipo \"el objeto `b` es un objeto `a`, pero con ciertas diferencias\"."
   ]
  },
  {
   "cell_type": "markdown",
   "metadata": {},
   "source": [
    "### Ejemplo: especializando la clase `Auto`\n",
    "\n",
    "Como ejemplo, consideremos nuestra clase `Auto`, con algunos de sus atributos como `marca`, `modelo`, `motor` y con los métodos `conducir` y `realizar_mantencion`. Si se nos pide modelar un furgón escolar, es natural pensar que éste compartirá muchas características de un `Auto`. Es más, podríamos decir que un furgón escolar **es un tipo particular de `Auto`**. El furgón escolar debería tener, al menos, _los mismos atributos y métodos_ que un auto, y seguramente tendrá también algunos atributos adicionales como _lista de los niños inscritos_ y métodos adicionales como _forma de inscribir niños_. Como ya hemos escrito el código de la clase `Auto`, nos gustaría poder **reutilizar** este código, pues ahí ya tenemos algunos atributos y métodos implementados.\n",
    "\n",
    "Usaremos, entonces, la **herencia**. La herencia nos permite _heredar_ datos y comportamientos de una clase y utilizarlos en otra. En nuestro ejemplo del furgón escolar, crearemos una clase `FurgonEscolar` que hereda de `Auto` y definiremos ahí la lista de los niños y un método de inscripción. \n",
    "\n",
    "Si `FurgonEscolar` **hereda** de `Auto`, también se dice que:\n",
    "- `FurgonEscolar` es una **especialización** de la clase `Auto`\n",
    "- `FurgonEscolar` es **subclase** (o clase hija) de `Auto`.\n",
    "- `FurgonEscolar` **extiende** la clase `Auto`.\n",
    "- `Auto` es **superclase** (o clase madre) de `FurgonEscolar`\n",
    "\n",
    "La implementación de herencia en Python lo hacemos de la siguiente manera:"
   ]
  },
  {
   "cell_type": "code",
   "execution_count": 34,
   "metadata": {
    "collapsed": true
   },
   "outputs": [],
   "source": [
    "class Auto:\n",
    "    \"\"\"Superclase de FurgonEscolar\"\"\"\n",
    "    \n",
    "    def __init__(self, marca, modelo, motor):\n",
    "        self.marca = marca\n",
    "        self.modelo = modelo\n",
    "        self.motor = motor\n",
    "        \n",
    "    def conducir(self, distancia):\n",
    "        print(f\"Conduciendo {distancia} kilómetros\")\n",
    "        \n",
    "    def realizar_mantencion(self):\n",
    "        print(\"Realizando mantención\")\n",
    "\n",
    "\n",
    "class FurgonEscolar(Auto):\n",
    "    \"\"\"Subclase de Auto\"\"\"\n",
    "    \n",
    "    # Estamos haciendo overriding del __init__ original\n",
    "    def __init__(self, marca, modelo, motor):\n",
    "        # Aún queremos usar el __init__ original para setear los otros datos. Así es como podemos llamarlo.\n",
    "        # Este atributo existe únicamente para objetos de tipo FurgonEscolar, pero no para todos los objetos de clase Auto.\n",
    "        Auto.__init__(self, marca, modelo, motor)\n",
    "        self.ninos = []\n",
    "    \n",
    "    # inscribir_nino es un método específico de esta subclase.\n",
    "    def inscribir_nino(self, nino):\n",
    "        self.ninos.append(nino)\n",
    "        \n",
    "    # Estamos haciendo overriding del método conducir original\n",
    "    def conducir(self, distancia):\n",
    "        # Acá no queremos usar la versión original de conducir\n",
    "        print(f\"Conduciendo con cuidado {distancia} kilómetros\")"
   ]
  },
  {
   "cell_type": "markdown",
   "metadata": {},
   "source": [
    "El método inscribir_niño es un **método específico** para la subclase _FurgonEscolar_.\n",
    "\n",
    "En _FurgonEscolar_ queremos que el método conducir sea diferente que en _Auto_, por lo que hacemos **overrriding** (sobreescribir)."
   ]
  },
  {
   "cell_type": "code",
   "execution_count": 36,
   "metadata": {},
   "outputs": [
    {
     "name": "stdout",
     "output_type": "stream",
     "text": [
      "Marca: Toyota\n",
      "Conduciendo con cuidado 5 kilómetros\n",
      "Realizando mantención\n",
      "Niños: ['Joaquín Contador']\n",
      "Conduciendo 12 kilómetros\n",
      "<class '__main__.Auto'>\n",
      "<class '__main__.FurgonEscolar'>\n"
     ]
    }
   ],
   "source": [
    "auto = Auto('Suzuki', 'Grand Vitara', 'Motor de 130 HP')\n",
    "furgon = FurgonEscolar('Toyota', 'Hiace', 'Motor de 100 HP')\n",
    "print(f\"Marca: {furgon.marca}\")\n",
    "furgon.conducir(5)\n",
    "furgon.realizar_mantencion()\n",
    "furgon.inscribir_nino('Joaquín Contador')\n",
    "print(f\"Niños: {furgon.ninos}\")\n",
    "auto.conducir(12)\n",
    "print(type(auto))\n",
    "print(type(furgon))"
   ]
  },
  {
   "cell_type": "markdown",
   "metadata": {},
   "source": [
    "### Método `super`\n",
    "Usando el método `super()` podemos utilizar la implementación de un método de la superclase sin nombrar explícitamente a la clase madre, de la forma **`super().metodo(argumentos)`**. Esto nos ayuda a escribir un código más mantenible, en caso que decidamos cambiar el nombre de la clase madre."
   ]
  },
  {
   "cell_type": "markdown",
   "metadata": {},
   "source": [
    "El código nos quedaría así:"
   ]
  },
  {
   "cell_type": "code",
   "execution_count": 37,
   "metadata": {
    "collapsed": true
   },
   "outputs": [],
   "source": [
    "class FurgonEscolar(Auto):\n",
    "    \"\"\"Subclase de Auto\"\"\"\n",
    "    \n",
    "    # Estamos haciendo overriding del __init__ original\n",
    "    def __init__(self, marca, modelo, motor):\n",
    "        # Usamos el __init__ original para setear los otros datos. Así es como podemos llamarlo con super().\n",
    "        super().__init__(marca, modelo, motor)\n",
    "        self.ninos = []"
   ]
  },
  {
   "cell_type": "markdown",
   "metadata": {},
   "source": [
    "El resto del código es igual que antes y funciona igual. Lo único que cambiamos es que ahora llamamos al `__init__` original de la siguiente manera:\n",
    "\n",
    "**`super().__init__(marca, modelo, motor)`**\n",
    "\n",
    "En lugar de:\n",
    "\n",
    "`Auto.__init__(self, marca, modelo, motor)`"
   ]
  },
  {
   "cell_type": "markdown",
   "metadata": {},
   "source": [
    "### Herencia con _built-ins_\n",
    "\n",
    "La herencia nos permite extender, no solamente las clases que hemos definido, sino también algunas que ya existían. En Python le llamados clases _built-ins_ a aquellas que están _construidas dentro_ (\"_built_\"-\"_in_\") del intérprete de Python y no necesitan de ningún módulo adicional para funcionar. \n",
    "\n",
    "Una de las clases _built-in_ de Python es la clase `list`. Si queremos extender la clase `list`, podemos definir una subclase que heredará los métodos de la clase `list` y a su vez tendrá datos y métodos propios:"
   ]
  },
  {
   "cell_type": "code",
   "execution_count": 38,
   "metadata": {
    "collapsed": true
   },
   "outputs": [],
   "source": [
    "class ContactList(list):\n",
    "    \"\"\"\n",
    "    Estamos extendiendo y especializando la clase list estándar. \n",
    "    Tiene todos los métodos de la lista más los definidos por nosotros.\n",
    "    \"\"\"\n",
    "    \n",
    "    # Buscar es un método específico de esta sub-clase\n",
    "    def buscar(self, nombre):\n",
    "        matches = [contacto for contacto in self if nombre in contacto.nombre]\n",
    "        return matches\n",
    "\n",
    "    \n",
    "class Contacto:\n",
    "    \"\"\"La clase Contacto almacena nombre y correo electrónico.\"\"\"\n",
    "    \n",
    "    def __init__(self, nombre, email):\n",
    "        self.nombre = nombre\n",
    "        self.email = email\n",
    "\n",
    "\n",
    "class Familiar(Contacto):\n",
    "    \"\"\"Familiar es una clase especializada de Contacto que permite incluir el tipo de relación\"\"\"\n",
    "\n",
    "    # Overriding sobre el método __init__()\n",
    "    def __init__(self, nombre, email, relacion):\n",
    "        super().__init__(nombre, email)\n",
    "        self.relacion = relacion"
   ]
  },
  {
   "cell_type": "code",
   "execution_count": 39,
   "metadata": {},
   "outputs": [
    {
     "data": {
      "text/plain": [
       "['Daniela Gómez', 'Daniela Vega']"
      ]
     },
     "execution_count": 39,
     "metadata": {},
     "output_type": "execute_result"
    }
   ],
   "source": [
    "contactos_list = ContactList()\n",
    "contactos_list.append(Familiar(nombre=\"Daniela Gómez\", email=\"daniela@gomez.cl\", relacion=\"madre\"))\n",
    "contactos_list.append(Contacto(nombre=\"Daniela Vega\", email=\"daniela@oscars.com\"))\n",
    "contactos_list.append(Familiar(nombre=\"Juan Gómez\", email=\"juan@gomez.cl\", relacion=\"primo\"))\n",
    "contactos_list.append(Contacto(nombre=\"Natalia Lafourcade\", email=\"natalia@lafourcade.com\"))\n",
    "    \n",
    "personas_llamadas_daniela = [contacto.nombre for contacto in contactos_list.buscar(\"Daniela\")]\n",
    "personas_llamadas_daniela"
   ]
  },
  {
   "cell_type": "markdown",
   "metadata": {},
   "source": [
    "En este ejemplo, la clase `ContactList` extiende a `list` para agregar un método que busca sobre sí misma (`self`) todos los elementos que coincidan con cierto _string_. Una vez creado un objeto de tipo `ContactList`, este objeto posee el método `matches`."
   ]
  },
  {
   "cell_type": "markdown",
   "metadata": {},
   "source": [
    "# 4. Poliformismo"
   ]
  },
  {
   "cell_type": "code",
   "execution_count": null,
   "metadata": {
    "collapsed": true
   },
   "outputs": [],
   "source": []
  }
 ],
 "metadata": {
  "kernelspec": {
   "display_name": "Python 3",
   "language": "python",
   "name": "python3"
  },
  "language_info": {
   "codemirror_mode": {
    "name": "ipython",
    "version": 3
   },
   "file_extension": ".py",
   "mimetype": "text/x-python",
   "name": "python",
   "nbconvert_exporter": "python",
   "pygments_lexer": "ipython3",
   "version": "3.6.1"
  }
 },
 "nbformat": 4,
 "nbformat_minor": 2
}
