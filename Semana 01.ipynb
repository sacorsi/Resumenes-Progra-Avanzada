{
 "cells": [
  {
   "cell_type": "markdown",
   "metadata": {},
   "source": [
    "# Semana 01"
   ]
  },
  {
   "cell_type": "markdown",
   "metadata": {},
   "source": [
    "# Estructuras de datos"
   ]
  },
  {
   "cell_type": "markdown",
   "metadata": {},
   "source": [
    "## _Tuplas_"
   ]
  },
  {
   "cell_type": "markdown",
   "metadata": {},
   "source": [
    "Se utilizan para manejar datos de forma **ordenada** e **inmutable**.\n",
    "\n",
    "Pueden ser **heterogéneas** (pueden contener objetos pertenecientes a clases o tipos de datos distintos).\n",
    "\n",
    "Las tuplas son estructuras de datos **inmutables**. Esto significa que **no es posible agregar o eliminar elementos**, o bien cambiar el contenido de la tupla una vez que ésta fue creada.\n",
    "\n",
    "_En otras palabras, no podemos cambiar el \"tipo\" del contendio de una tuplas, como por ejemplo en la posicion 0 de la tupla, si esque era de tipo str, no podemos cambiarlo a tipo objeto_\n",
    "\n",
    "Sin embargo, sí es posible modificar algún valor contenido _dentro_ de un elemento de la tupla, siempre que el tipo de datos lo permita. Por ejemlpo podemos cambiar un elemnto _int_ de la tupla que es **0** a un **1** que tambien es _int_."
   ]
  },
  {
   "cell_type": "code",
   "execution_count": 12,
   "metadata": {},
   "outputs": [
    {
     "name": "stdout",
     "output_type": "stream",
     "text": [
      "1: (20, 40, 60, 80)\n",
      "2: 20, 40, 60, 80\n",
      "3: (20, 40, 60, 80)\n"
     ]
    }
   ],
   "source": [
    "tupla = (20, 40, 60, 80)\n",
    "a, b, c, d = tupla\n",
    "\n",
    "#Distintas formas de imprimir\n",
    "print(\"1:\",tupla)\n",
    "print(f\"2: {a}, {b}, {c}, {d}\")\n",
    "print(\"3: {0}\".format(tupla))"
   ]
  },
  {
   "cell_type": "markdown",
   "metadata": {},
   "source": [
    "## _Named tuples_"
   ]
  },
  {
   "cell_type": "markdown",
   "metadata": {},
   "source": [
    "Este tipo de tupla requiere definir un objeto con los nombres de los atributos que tendrá la tupla.\n",
    "\n",
    "Generalmente se utilizan como alternativa a las clases cuando los datos no tienen un comportamiento asociado.\n",
    "\n",
    "Es necesario importar el modulo _namedtuple_ desde la librería _collections_.\n",
    "\n",
    "Son **inmutables**."
   ]
  },
  {
   "cell_type": "code",
   "execution_count": 14,
   "metadata": {},
   "outputs": [
    {
     "name": "stdout",
     "output_type": "stream",
     "text": [
      "Register_type(RUT='13427974-5', name='Pablo', age=20)\n",
      "13427974-5\n",
      "<class '__main__.Register_type'>\n"
     ]
    }
   ],
   "source": [
    "from collections import namedtuple\n",
    "\n",
    "# Asignamos un nombre a la tupla (Register_type), y los nombres de los atributos que tendrá\n",
    "Register = namedtuple('Register_type', ['RUT', 'name', 'age'])\n",
    "\n",
    "# instanciación e inicialización de la tupla\n",
    "c1 = Register('13427974-5', 'Pablo', 20) \n",
    "\n",
    "print(c1)\n",
    "print(c1.RUT)\n",
    "print(type(c1))"
   ]
  },
  {
   "cell_type": "markdown",
   "metadata": {},
   "source": [
    "## _Listas_"
   ]
  },
  {
   "cell_type": "markdown",
   "metadata": {},
   "source": [
    "Las **listas** (`list`) se utilizan para manejar datos de forma **ordenada** y **mutable**.\n",
    "\n",
    "A diferencia de las tuplas, el _orden_ de los elementos de una lista, y _los elementos mismos_ pueden cambiar mediante métodos que manipulan la lista.\n",
    "\n",
    "Las listas también pueden ser **heterogéneas**.\n",
    "\n",
    "En una lista, los elementos que se agregan usando **append**, se ponen al final de la lista. Podemos agregar elementos en posiciones específicas con el método **`insert(posicion, elemento)`**.\n",
    "\n",
    "Podemos unir 2 listas con el método **`extend()`**."
   ]
  },
  {
   "cell_type": "code",
   "execution_count": 16,
   "metadata": {},
   "outputs": [
    {
     "name": "stdout",
     "output_type": "stream",
     "text": [
      "[1, 2, 3, 4, 5, 6]\n"
     ]
    }
   ],
   "source": [
    "lista1 = [1 ,2 ,3]\n",
    "lista2 = [4, 5, 6]\n",
    "lista1.extend(lista2)\n",
    "print(lista1)"
   ]
  },
  {
   "cell_type": "markdown",
   "metadata": {},
   "source": [
    "Las listas se pueden ordenar con el método **`sort()`**. (la ordena de menor a mayor)\n",
    "\n",
    "**`sort(reverse=True)`** las ordena de forma decreciente (de mayor a menor).\n"
   ]
  },
  {
   "cell_type": "code",
   "execution_count": null,
   "metadata": {
    "collapsed": true
   },
   "outputs": [],
   "source": []
  }
 ],
 "metadata": {
  "kernelspec": {
   "display_name": "Python 3",
   "language": "python",
   "name": "python3"
  },
  "language_info": {
   "codemirror_mode": {
    "name": "ipython",
    "version": 3
   },
   "file_extension": ".py",
   "mimetype": "text/x-python",
   "name": "python",
   "nbconvert_exporter": "python",
   "pygments_lexer": "ipython3",
   "version": "3.6.1"
  }
 },
 "nbformat": 4,
 "nbformat_minor": 2
}
